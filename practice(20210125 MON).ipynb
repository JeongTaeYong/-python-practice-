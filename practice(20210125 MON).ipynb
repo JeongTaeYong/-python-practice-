{
 "cells": [
  {
   "cell_type": "code",
   "execution_count": null,
   "metadata": {},
   "outputs": [],
   "source": [
    "# 문자열 관련 함수"
   ]
  },
  {
   "cell_type": "code",
   "execution_count": 19,
   "metadata": {},
   "outputs": [
    {
     "name": "stdout",
     "output_type": "stream",
     "text": [
      "문자 i의 갯수 = 3\n",
      "문자 s의 갯수 = 3\n",
      "단어 is의 갯수 = 2\n",
      "단어 Edison의 갯수 = 1\n",
      "단어 edison의 갯수 = 1\n",
      "단어 edison의 갯수 = 0\n",
      "단어 genious의 갯수= 1\n",
      "단어 genious의 갯수= 1\n",
      "단어 genious의 갯수= 0\n"
     ]
    }
   ],
   "source": [
    "# 1. count()\n",
    "a = 'Edison is genious'\n",
    "print('문자 i의 갯수 =', a.count('i'))\n",
    "print('문자 s의 갯수 =', 'Edison is genious'.count('s'))\n",
    "print('단어 is의 갯수 =', a.count('is'))\n",
    "print('단어 Edison의 갯수 =', a.count('Edison'))\n",
    "print('단어 edison의 갯수 =', a.count('Edison'))\n",
    "print('단어 edison의 갯수 =', a.count('edison'))  # 대소문자 구별\n",
    "print('단어 genious의 갯수=', a[:].count('genious'))\n",
    "print('단어 genious의 갯수=', a[10:].count('genious'))\n",
    "print('단어 genious의 갯수=', a[11:].count('genious'))"
   ]
  },
  {
   "cell_type": "code",
   "execution_count": 23,
   "metadata": {},
   "outputs": [
    {
     "name": "stdout",
     "output_type": "stream",
     "text": [
      "문자 i의 위치 = 5\n",
      "문자 p의 위치 = 19\n",
      "문자 b의 위치 = -1\n"
     ]
    }
   ],
   "source": [
    "# 2. find()\n",
    "b = 'I am interested in playing soccer.'\n",
    "print('문자 i의 위치 =', b.find('i'))  # 제일 첫 번째 위치(좌측에서 0부터 시작)\n",
    "print('문자 p의 위치 =', b.find('p'))\n",
    "print('문자 b의 위치 =', b.find('b'))  # 없는 문자는 -1로 표시"
   ]
  },
  {
   "cell_type": "code",
   "execution_count": 26,
   "metadata": {},
   "outputs": [
    {
     "name": "stdout",
     "output_type": "stream",
     "text": [
      "문자 i의 위치 = 5\n",
      "문자 p의 위치 = 19\n"
     ]
    },
    {
     "ename": "ValueError",
     "evalue": "substring not found",
     "output_type": "error",
     "traceback": [
      "\u001b[1;31m---------------------------------------------------------------------------\u001b[0m",
      "\u001b[1;31mValueError\u001b[0m                                Traceback (most recent call last)",
      "\u001b[1;32m<ipython-input-26-410742252a34>\u001b[0m in \u001b[0;36m<module>\u001b[1;34m\u001b[0m\n\u001b[0;32m      2\u001b[0m \u001b[0mprint\u001b[0m\u001b[1;33m(\u001b[0m\u001b[1;34m'문자 i의 위치 ='\u001b[0m\u001b[1;33m,\u001b[0m \u001b[0mb\u001b[0m\u001b[1;33m.\u001b[0m\u001b[0mindex\u001b[0m\u001b[1;33m(\u001b[0m\u001b[1;34m'i'\u001b[0m\u001b[1;33m)\u001b[0m\u001b[1;33m)\u001b[0m\u001b[1;33m\u001b[0m\u001b[1;33m\u001b[0m\u001b[0m\n\u001b[0;32m      3\u001b[0m \u001b[0mprint\u001b[0m\u001b[1;33m(\u001b[0m\u001b[1;34m'문자 p의 위치 ='\u001b[0m\u001b[1;33m,\u001b[0m \u001b[0mb\u001b[0m\u001b[1;33m.\u001b[0m\u001b[0mindex\u001b[0m\u001b[1;33m(\u001b[0m\u001b[1;34m'p'\u001b[0m\u001b[1;33m)\u001b[0m\u001b[1;33m)\u001b[0m\u001b[1;33m\u001b[0m\u001b[1;33m\u001b[0m\u001b[0m\n\u001b[1;32m----> 4\u001b[1;33m \u001b[0mprint\u001b[0m\u001b[1;33m(\u001b[0m\u001b[1;34m'문자 b의 위치 ='\u001b[0m\u001b[1;33m,\u001b[0m \u001b[0mb\u001b[0m\u001b[1;33m.\u001b[0m\u001b[0mindex\u001b[0m\u001b[1;33m(\u001b[0m\u001b[1;34m'b'\u001b[0m\u001b[1;33m)\u001b[0m\u001b[1;33m)\u001b[0m\u001b[1;33m\u001b[0m\u001b[1;33m\u001b[0m\u001b[0m\n\u001b[0m",
      "\u001b[1;31mValueError\u001b[0m: substring not found"
     ]
    }
   ],
   "source": [
    "# 3. index()\n",
    "print('문자 i의 위치 =', b.index('i'))\n",
    "print('문자 p의 위치 =', b.index('p'))\n",
    "print('문자 b의 위치 =', b.index('b'))  # 없는 문자는 에러"
   ]
  },
  {
   "cell_type": "code",
   "execution_count": 30,
   "metadata": {},
   "outputs": [
    {
     "name": "stdout",
     "output_type": "stream",
     "text": [
      "benz\n",
      "b, e, n, z\n",
      "b♥e♥n♥z\n",
      "b★e★n★z\n"
     ]
    }
   ],
   "source": [
    "# 4. join(iterable, 반복가능한)\n",
    "print('benz')\n",
    "print('b, e, n, z')\n",
    "print('♥'.join('benz'))\n",
    "c = '★'\n",
    "print(c.join('benz'))"
   ]
  },
  {
   "cell_type": "code",
   "execution_count": 33,
   "metadata": {},
   "outputs": [
    {
     "data": {
      "text/plain": [
       "'EDISON IS GENIOUS.'"
      ]
     },
     "execution_count": 33,
     "metadata": {},
     "output_type": "execute_result"
    }
   ],
   "source": [
    "# 5. upper() : 소문자를 대문자로 변경(매개변수가 없음)\n",
    "d = 'Edison is genious.'\n",
    "d.upper()"
   ]
  },
  {
   "cell_type": "code",
   "execution_count": 36,
   "metadata": {},
   "outputs": [
    {
     "name": "stdout",
     "output_type": "stream",
     "text": [
      "edison is genious.\n",
      "EDISON IS GENIOUS.\n",
      "edison is genious.\n"
     ]
    }
   ],
   "source": [
    "# 6. lower() : 대문자를 소문자로 변경\n",
    "print(d.lower())\n",
    "print(d.lower().upper())\n",
    "print(d.lower().upper().lower())"
   ]
  },
  {
   "cell_type": "code",
   "execution_count": 43,
   "metadata": {},
   "outputs": [
    {
     "name": "stdout",
     "output_type": "stream",
     "text": [
      "Heaven\n",
      " Heaven\n",
      "Heaven\n",
      "Hea ven\n"
     ]
    }
   ],
   "source": [
    "# 7. lstrip(), rstrip(), strip() : 공백 제거\n",
    "a = '        Heaven'\n",
    "b = ' Heaven       '\n",
    "c = '    Heaven    '\n",
    "d = '   Hea ven    '\n",
    "\n",
    "print(a.lstrip())  # 왼쪽 공백 제거\n",
    "print(b.rstrip())  # 오른쪽 공백 제거\n",
    "print(c.strip())\n",
    "print(d.strip())"
   ]
  },
  {
   "cell_type": "code",
   "execution_count": 82,
   "metadata": {},
   "outputs": [
    {
     "name": "stdout",
     "output_type": "stream",
     "text": [
      "Edison is genious.\n",
      "Edison is genyous.\n",
      "Edison is genious.\n",
      "Ed@son @s gen@ous.\n",
      "Edison @s gen@ous.\n",
      "Edison ss gen@ous.\n",
      "Edison ss gendous.\n"
     ]
    }
   ],
   "source": [
    "# 8. replace(old, new, count) : 문자열 변경\n",
    "# count는 1부터 시작, 1이면 1개 / 2이면 똑같은 문자 2개를 바꿈\n",
    "# 문자열은 immutable(변경할 수 없는) 자료형이기 때문에 직접 변경 불가\n",
    "# 변경된 결과를 저장해야 최종적으로 반영\n",
    "a = 'Edison is genyous.'\n",
    "print(a.replace('genyous', 'genious'))\n",
    "print(a)\n",
    "a = a.replace('genyous', 'genious')\n",
    "print(a)\n",
    "\n",
    "a = a.replace('i', '@', -1)\n",
    "print(a)\n",
    "\n",
    "a = a.replace('@', 'i', 1)  # 첫 번째\n",
    "print(a)\n",
    "\n",
    "a = a.replace('@', 's', 1)  # 두 번째\n",
    "print(a)\n",
    "\n",
    "a = a.replace('@', 'd', 1)  # 세 번째\n",
    "print(a)"
   ]
  },
  {
   "cell_type": "code",
   "execution_count": 93,
   "metadata": {},
   "outputs": [
    {
     "name": "stdout",
     "output_type": "stream",
     "text": [
      "['Edison', 'is', 'genious']\n",
      "['Edison', 'is', 'genious']\n",
      "['Edison is genious']\n",
      "['Edison', 'is genious']\n",
      "['Edison', 'is', 'genious']\n",
      "['p', 'y', 't', 'h', 'o', 'n']\n",
      "['p', 'y', 't', 'h', 'o', 'n']\n",
      "['p', 'y', 't', 'h', 'o', 'n']\n"
     ]
    }
   ],
   "source": [
    "# 9. split() : 문자열 나누기, 결과는 list 자료형으로 리턴됨\n",
    "a = 'Edison is genious'\n",
    "print(a.split()) # 단어별로 나누어짐\n",
    "\n",
    "print(a.split(None))\n",
    "print(a.split(None, 0))\n",
    "print(a.split(None, 1))\n",
    "print(a.split(None, 2))\n",
    "\n",
    "# 구분자를 기준으로 나누기\n",
    "a = 'p,y,t,h,o,n'\n",
    "print(a.split(','))\n",
    "\n",
    "a = 'p:y:t:h:o:n'\n",
    "print(a.split(':'))\n",
    "\n",
    "a = 'p::y::t::h::o::n'\n",
    "print(a.split('::'))"
   ]
  },
  {
   "cell_type": "code",
   "execution_count": 96,
   "metadata": {},
   "outputs": [
    {
     "data": {
      "text/plain": [
       "'Edison is genious'"
      ]
     },
     "execution_count": 96,
     "metadata": {},
     "output_type": "execute_result"
    }
   ],
   "source": [
    "# 10. capitalize() : 첫 문자를 대문자로 변경\n",
    "a = 'edison is genious'\n",
    "a.capitalize()"
   ]
  },
  {
   "cell_type": "code",
   "execution_count": 100,
   "metadata": {},
   "outputs": [
    {
     "data": {
      "text/plain": [
       "'1'"
      ]
     },
     "execution_count": 100,
     "metadata": {},
     "output_type": "execute_result"
    }
   ],
   "source": [
    "# 주민등록번호에서 성별을 나타내는 숫자 출력하기\n",
    "a = '881221-1234567'\n",
    "a[7]"
   ]
  },
  {
   "cell_type": "code",
   "execution_count": 106,
   "metadata": {},
   "outputs": [
    {
     "data": {
      "text/plain": [
       "25"
      ]
     },
     "execution_count": 106,
     "metadata": {},
     "output_type": "execute_result"
    }
   ],
   "source": [
    "# find(), index()로 문자열 찾기\n",
    "a = 'Edison is genious, He is good man.'\n",
    "a.find('good')  # good이 시작되는 위치 출력\n",
    "a.index('good')"
   ]
  },
  {
   "cell_type": "code",
   "execution_count": 111,
   "metadata": {},
   "outputs": [
    {
     "name": "stdout",
     "output_type": "stream",
     "text": [
      "['p', 'y', 't', 'h', 'o', 'n']\n",
      "p♥y♥t♥h♥o♥n\n",
      "p★y★t★h★o★n\n",
      "p☆y☆t☆h☆o☆n\n",
      "p◆y◆t◆h◆o◆n\n"
     ]
    }
   ],
   "source": [
    "# split()과 join()으로 문자열 바꾸기\n",
    "a = 'p:y:t:h:o:n'\n",
    "b = a.split(':')\n",
    "print(b)\n",
    "\n",
    "c = '♥'.join(b)\n",
    "print(c)\n",
    "\n",
    "print('★'.join(a.split(':')))\n",
    "print('☆'.join('p:y:t:h:o:n'.split(':')))\n",
    "print('p:y:t:h:o:n'.replace(':', '◆'))"
   ]
  },
  {
   "cell_type": "code",
   "execution_count": 113,
   "metadata": {},
   "outputs": [
    {
     "name": "stdout",
     "output_type": "stream",
     "text": [
      "12500000\n",
      "1600000.0\n"
     ]
    }
   ],
   "source": [
    "# 삼성전자 100주와 LG전자 50주 주식 총액 구하기\n",
    "SAMSUNG = 90000\n",
    "LG = 70000\n",
    "total = SAMSUNG * 100 + LG * 50\n",
    "print(total)\n",
    "\n",
    "# 삼성전자와 LG전자 주가가 각각 10%, 20% 상승한 경우에 이익금액 구하기\n",
    "benefit = (SAMSUNG * 0.1 * 100) + (LG * 0.2 * 50)\n",
    "print(benefit)"
   ]
  },
  {
   "cell_type": "code",
   "execution_count": 114,
   "metadata": {},
   "outputs": [
    {
     "name": "stdout",
     "output_type": "stream",
     "text": [
      "Genious\n",
      "Genious\n",
      "Genious\n",
      "Genious\n",
      "Genious\n",
      "Genious\n",
      "Genious\n",
      "Genious\n",
      "Genious\n",
      "Genious\n",
      "\n"
     ]
    }
   ],
   "source": [
    "# Genious라는 문자를 10번 출력하기(단, 줄을 바꾸면서 10줄)\n",
    "print('Genious\\n' * 10)"
   ]
  }
 ],
 "metadata": {
  "kernelspec": {
   "display_name": "Python 3",
   "language": "python",
   "name": "python3"
  },
  "language_info": {
   "codemirror_mode": {
    "name": "ipython",
    "version": 3
   },
   "file_extension": ".py",
   "mimetype": "text/x-python",
   "name": "python",
   "nbconvert_exporter": "python",
   "pygments_lexer": "ipython3",
   "version": "3.8.5"
  }
 },
 "nbformat": 4,
 "nbformat_minor": 4
}
