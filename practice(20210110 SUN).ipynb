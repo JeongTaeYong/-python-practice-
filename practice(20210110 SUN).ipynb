{
 "cells": [
  {
   "cell_type": "code",
   "execution_count": 3,
   "metadata": {},
   "outputs": [
    {
     "name": "stdout",
     "output_type": "stream",
     "text": [
      "Package                            Version\n",
      "---------------------------------- -------------------\n",
      "alabaster                          0.7.12\n",
      "anaconda-client                    1.7.2\n",
      "anaconda-navigator                 1.10.0\n",
      "anaconda-project                   0.9.0\n",
      "appdirs                            1.4.4\n",
      "argh                               0.26.2\n",
      "argon2-cffi                        20.1.0\n",
      "asn1crypto                         1.4.0\n",
      "astroid                            2.4.2\n",
      "astropy                            4.2\n",
      "async-generator                    1.10\n",
      "atomicwrites                       1.4.0\n",
      "attrs                              20.3.0\n",
      "autopep8                           1.5.4\n",
      "Babel                              2.9.0\n",
      "backcall                           0.2.0\n",
      "backports.functools-lru-cache      1.6.1\n",
      "backports.shutil-get-terminal-size 1.0.0\n",
      "backports.tempfile                 1.0\n",
      "backports.weakref                  1.0.post1\n",
      "bcrypt                             3.2.0\n",
      "beautifulsoup4                     4.9.3\n",
      "bitarray                           1.6.1\n",
      "bkcharts                           0.2\n",
      "black                              19.10b0\n",
      "bleach                             3.2.1\n",
      "bokeh                              2.2.3\n",
      "boto                               2.49.0\n",
      "Bottleneck                         1.3.2\n",
      "brotlipy                           0.7.0\n",
      "certifi                            2020.12.5\n",
      "cffi                               1.14.4\n",
      "chardet                            4.0.0\n",
      "click                              7.1.2\n",
      "cloudpickle                        1.6.0\n",
      "clyent                             1.2.2\n",
      "colorama                           0.4.4\n",
      "comtypes                           1.1.8\n",
      "conda                              4.9.2\n",
      "conda-build                        3.20.5\n",
      "conda-package-handling             1.7.2\n",
      "conda-verify                       3.4.2\n",
      "contextlib2                        0.6.0.post1\n",
      "cryptography                       3.3.1\n",
      "cycler                             0.10.0\n",
      "Cython                             0.29.21\n",
      "cytoolz                            0.11.0\n",
      "dask                               2020.12.0\n",
      "decorator                          4.4.2\n",
      "defusedxml                         0.6.0\n",
      "diff-match-patch                   20200713\n",
      "distributed                        2020.12.0\n",
      "docutils                           0.16\n",
      "entrypoints                        0.3\n",
      "et-xmlfile                         1.0.1\n",
      "fastcache                          1.1.0\n",
      "filelock                           3.0.12\n",
      "flake8                             3.8.4\n",
      "Flask                              1.1.2\n",
      "fsspec                             0.8.3\n",
      "future                             0.18.2\n",
      "gevent                             20.12.1\n",
      "glob2                              0.7\n",
      "gmpy2                              2.0.8\n",
      "greenlet                           0.4.17\n",
      "h5py                               2.10.0\n",
      "HeapDict                           1.0.1\n",
      "html5lib                           1.1\n",
      "idna                               2.10\n",
      "imageio                            2.9.0\n",
      "imagesize                          1.2.0\n",
      "importlib-metadata                 2.0.0\n",
      "iniconfig                          1.1.1\n",
      "intervaltree                       3.1.0\n",
      "ipykernel                          5.3.4\n",
      "ipython                            7.19.0\n",
      "ipython-genutils                   0.2.0\n",
      "ipywidgets                         7.6.3\n",
      "isort                              5.6.4\n",
      "itsdangerous                       1.1.0\n",
      "jdcal                              1.4.1\n",
      "jedi                               0.17.2\n",
      "Jinja2                             2.11.2\n",
      "joblib                             1.0.0\n",
      "json5                              0.9.5\n",
      "jsonschema                         3.2.0\n",
      "jupyter                            1.0.0\n",
      "jupyter-client                     6.1.7\n",
      "jupyter-console                    6.2.0\n",
      "jupyter-core                       4.7.0\n",
      "jupyterlab                         2.2.6\n",
      "jupyterlab-pygments                0.1.2\n",
      "jupyterlab-server                  1.2.0\n",
      "jupyterlab-widgets                 1.0.0\n",
      "keyring                            21.8.0\n",
      "kiwisolver                         1.3.0\n",
      "lazy-object-proxy                  1.4.3\n",
      "libarchive-c                       2.9\n",
      "llvmlite                           0.34.0\n",
      "locket                             0.2.0\n",
      "lxml                               4.6.2\n",
      "MarkupSafe                         1.1.1\n",
      "matplotlib                         3.3.2\n",
      "mccabe                             0.6.1\n",
      "menuinst                           1.4.16\n",
      "mistune                            0.8.4\n",
      "mkl-fft                            1.2.0\n",
      "mkl-random                         1.1.1\n",
      "mkl-service                        2.3.0\n",
      "mock                               4.0.3\n",
      "more-itertools                     8.6.0\n",
      "mpmath                             1.1.0\n",
      "msgpack                            1.0.1\n",
      "multipledispatch                   0.6.0\n",
      "mypy-extensions                    0.4.3\n",
      "navigator-updater                  0.2.1\n",
      "nbclient                           0.5.1\n",
      "nbconvert                          6.0.7\n",
      "nbformat                           5.0.8\n",
      "nest-asyncio                       1.4.2\n",
      "networkx                           2.5\n",
      "nltk                               3.5\n",
      "nose                               1.3.7\n",
      "notebook                           6.1.6\n",
      "numba                              0.51.2\n",
      "numexpr                            2.7.2\n",
      "numpy                              1.19.2\n",
      "numpydoc                           1.1.0\n",
      "olefile                            0.46\n",
      "openpyxl                           3.0.5\n",
      "packaging                          20.8\n",
      "pandas                             1.2.0\n",
      "pandocfilters                      1.4.3\n",
      "paramiko                           2.7.2\n",
      "parso                              0.7.0\n",
      "partd                              1.1.0\n",
      "path                               15.0.1\n",
      "pathlib2                           2.3.5\n",
      "pathspec                           0.7.0\n",
      "pathtools                          0.1.2\n",
      "patsy                              0.5.1\n",
      "pep8                               1.7.1\n",
      "pexpect                            4.8.0\n",
      "pickleshare                        0.7.5\n",
      "Pillow                             8.1.0\n",
      "pip                                20.3.3\n",
      "pkginfo                            1.6.1\n",
      "pluggy                             0.13.1\n",
      "ply                                3.11\n",
      "prometheus-client                  0.9.0\n",
      "prompt-toolkit                     3.0.8\n",
      "psutil                             5.7.2\n",
      "ptyprocess                         0.7.0\n",
      "py                                 1.10.0\n",
      "pycodestyle                        2.6.0\n",
      "pycosat                            0.6.3\n",
      "pycparser                          2.20\n",
      "pycurl                             7.43.0.6\n",
      "pydocstyle                         5.1.1\n",
      "pyerfa                             1.7.1.1\n",
      "pyflakes                           2.2.0\n",
      "Pygments                           2.7.3\n",
      "pylint                             2.6.0\n",
      "pyls-black                         0.4.6\n",
      "pyls-spyder                        0.3.0\n",
      "PyNaCl                             1.4.0\n",
      "pyodbc                             4.0.0-unsupported\n",
      "pyOpenSSL                          20.0.1\n",
      "pyparsing                          2.4.7\n",
      "pyreadline                         2.1\n",
      "pyrsistent                         0.17.3\n",
      "PySocks                            1.7.1\n",
      "pytest                             0.0.0\n",
      "python-dateutil                    2.8.1\n",
      "python-jsonrpc-server              0.4.0\n",
      "python-language-server             0.36.2\n",
      "pytz                               2020.5\n",
      "PyWavelets                         1.1.1\n",
      "pywin32                            227\n",
      "pywin32-ctypes                     0.2.0\n",
      "pywinpty                           0.5.7\n",
      "PyYAML                             5.3.1\n",
      "pyzmq                              20.0.0\n",
      "QDarkStyle                         2.8.1\n",
      "QtAwesome                          1.0.1\n",
      "qtconsole                          4.7.7\n",
      "QtPy                               1.9.0\n",
      "regex                              2020.11.13\n",
      "requests                           2.25.1\n",
      "rope                               0.18.0\n",
      "Rtree                              0.9.4\n",
      "ruamel-yaml                        0.15.87\n",
      "scikit-image                       0.17.2\n",
      "scikit-learn                       0.23.2\n",
      "scipy                              1.5.2\n",
      "seaborn                            0.11.1\n",
      "Send2Trash                         1.5.0\n",
      "setuptools                         51.0.0.post20201207\n",
      "simplegeneric                      0.8.1\n",
      "singledispatch                     3.4.0.3\n",
      "sip                                4.19.13\n",
      "six                                1.15.0\n",
      "snowballstemmer                    2.0.0\n",
      "sortedcollections                  1.2.3\n",
      "sortedcontainers                   2.3.0\n",
      "soupsieve                          2.1\n",
      "Sphinx                             3.4.3\n",
      "sphinxcontrib-applehelp            1.0.2\n",
      "sphinxcontrib-devhelp              1.0.2\n",
      "sphinxcontrib-htmlhelp             1.0.3\n",
      "sphinxcontrib-jsmath               1.0.1\n",
      "sphinxcontrib-qthelp               1.0.3\n",
      "sphinxcontrib-serializinghtml      1.1.4\n",
      "sphinxcontrib-websupport           1.2.4\n",
      "spyder                             4.2.0\n",
      "spyder-kernels                     1.10.1\n",
      "SQLAlchemy                         1.3.21\n",
      "statsmodels                        0.12.1\n",
      "sympy                              1.7.1\n",
      "tables                             3.6.1\n",
      "tblib                              1.7.0\n",
      "terminado                          0.9.2\n",
      "testpath                           0.4.4\n",
      "threadpoolctl                      2.1.0\n",
      "three-merge                        0.1.1\n",
      "tifffile                           2020.10.1\n",
      "toml                               0.10.1\n",
      "toolz                              0.11.1\n",
      "tornado                            6.1\n",
      "tqdm                               4.55.1\n",
      "traitlets                          5.0.5\n",
      "typed-ast                          1.4.1\n",
      "typing-extensions                  3.7.4.3\n",
      "ujson                              4.0.1\n",
      "unicodecsv                         0.14.1\n",
      "urllib3                            1.26.2\n",
      "watchdog                           0.10.4\n",
      "wcwidth                            0.2.5\n",
      "webencodings                       0.5.1\n",
      "Werkzeug                           1.0.1\n",
      "wheel                              0.36.2\n",
      "widgetsnbextension                 3.5.1\n",
      "win-inet-pton                      1.1.0\n",
      "win-unicode-console                0.5\n",
      "wincertstore                       0.2\n",
      "wrapt                              1.11.2\n",
      "xlrd                               2.0.1\n",
      "XlsxWriter                         1.3.7\n",
      "xlwings                            0.21.4\n",
      "xlwt                               1.3.0\n",
      "xmltodict                          0.12.0\n",
      "yapf                               0.30.0\n",
      "zict                               2.0.0\n",
      "zipp                               3.4.0\n",
      "zope.event                         4.5.0\n",
      "zope.interface                     5.2.0\n"
     ]
    },
    {
     "name": "stdout",
     "output_type": "stream",
     "text": [
      "# packages in environment at C:\\Anaconda3:\n",
      "#\n",
      "# Name                    Version                   Build  Channel\n",
      "_anaconda_depends         2020.07                  py38_0  \n",
      "_ipyw_jlab_nb_ext_conf    0.1.0                    py38_0  \n",
      "alabaster                 0.7.12                     py_0  \n",
      "anaconda                  custom                   py38_1  \n",
      "anaconda-client           1.7.2                    py38_0  \n",
      "anaconda-navigator        1.10.0                   py38_0  \n",
      "anaconda-project          0.9.0              pyhd3eb1b0_0  \n",
      "appdirs                   1.4.4                      py_0  \n",
      "argh                      0.26.2                   py38_0  \n",
      "argon2-cffi               20.1.0           py38he774522_1  \n",
      "asn1crypto                1.4.0                      py_0  \n",
      "astroid                   2.4.2                    py38_0  \n",
      "astropy                   4.2              py38h2bbff1b_0  \n",
      "async_generator           1.10                       py_0  \n",
      "atomicwrites              1.4.0                      py_0  \n",
      "attrs                     20.3.0             pyhd3eb1b0_0  \n",
      "autopep8                  1.5.4                      py_0  \n",
      "babel                     2.9.0              pyhd3eb1b0_0  \n",
      "backcall                  0.2.0                      py_0  \n",
      "backports                 1.0                pyhd3eb1b0_2  \n",
      "backports.functools_lru_cache 1.6.1              pyhd3eb1b0_0  \n",
      "backports.shutil_get_terminal_size 1.0.0              pyhd3eb1b0_3  \n",
      "backports.tempfile        1.0                        py_1  \n",
      "backports.weakref         1.0.post1                  py_1  \n",
      "bcrypt                    3.2.0            py38he774522_0  \n",
      "beautifulsoup4            4.9.3              pyhb0f4dca_0  \n",
      "bitarray                  1.6.1            py38h2bbff1b_0  \n",
      "bkcharts                  0.2                      py38_0  \n",
      "black                     19.10b0                    py_0  \n",
      "blas                      1.0                         mkl  \n",
      "bleach                    3.2.1                      py_0  \n",
      "blosc                     1.20.1               h7bd577a_0  \n",
      "bokeh                     2.2.3                    py38_0  \n",
      "boto                      2.49.0                   py38_0  \n",
      "bottleneck                1.3.2            py38h2a96729_1  \n",
      "brotlipy                  0.7.0           py38h2bbff1b_1003  \n",
      "bzip2                     1.0.8                he774522_0  \n",
      "ca-certificates           2020.12.8            haa95532_0  \n",
      "certifi                   2020.12.5        py38haa95532_0  \n",
      "cffi                      1.14.4           py38hcd4344a_0  \n",
      "chardet                   4.0.0           py38haa95532_1003  \n",
      "click                     7.1.2                      py_0  \n",
      "cloudpickle               1.6.0                      py_0  \n",
      "clyent                    1.2.2                    py38_1  \n",
      "colorama                  0.4.4              pyhd3eb1b0_0  \n",
      "comtypes                  1.1.8           py38haa95532_1002  \n",
      "conda                     4.9.2            py38haa95532_0  \n",
      "conda-build               3.20.5                   py38_1  \n",
      "conda-env                 2.6.0                         1  \n",
      "conda-package-handling    1.7.2            py38h76e460a_0  \n",
      "conda-verify              3.4.2                      py_1  \n",
      "console_shortcut          0.1.1                         4  \n",
      "contextlib2               0.6.0.post1                py_0  \n",
      "cryptography              3.3.1            py38hcd4344a_0  \n",
      "curl                      7.71.1               h2a8f88b_1  \n",
      "cycler                    0.10.0                   py38_0  \n",
      "cython                    0.29.21          py38hd77b12b_0  \n",
      "cytoolz                   0.11.0           py38he774522_0  \n",
      "dask                      2020.12.0          pyhd3eb1b0_0  \n",
      "dask-core                 2020.12.0          pyhd3eb1b0_0  \n",
      "decorator                 4.4.2                      py_0  \n",
      "defusedxml                0.6.0                      py_0  \n",
      "diff-match-patch          20200713                   py_0  \n",
      "distributed               2020.12.0        py38haa95532_0  \n",
      "docutils                  0.16                     py38_1  \n",
      "entrypoints               0.3                      py38_0  \n",
      "et_xmlfile                1.0.1                   py_1001  \n",
      "fastcache                 1.1.0            py38he774522_0  \n",
      "filelock                  3.0.12                     py_0  \n",
      "flake8                    3.8.4                      py_0  \n",
      "flask                     1.1.2                      py_0  \n",
      "freetype                  2.10.4               hd328e21_0  \n",
      "fsspec                    0.8.3                      py_0  \n",
      "future                    0.18.2                   py38_1  \n",
      "get_terminal_size         1.0.0                h38e98db_0  \n",
      "gevent                    20.12.1          py38h2bbff1b_1  \n",
      "glob2                     0.7                        py_0  \n",
      "gmpy2                     2.0.8            py38h7edee0f_3  \n",
      "greenlet                  0.4.17           py38he774522_0  \n",
      "h5py                      2.10.0           py38h5e291fa_0  \n",
      "hdf5                      1.10.4               h7ebc959_0  \n",
      "heapdict                  1.0.1                      py_0  \n",
      "html5lib                  1.1                        py_0  \n",
      "icc_rt                    2019.0.0             h0cc432a_1  \n",
      "icu                       58.2                 ha925a31_3  \n",
      "idna                      2.10                       py_0  \n",
      "imageio                   2.9.0                      py_0  \n",
      "imagesize                 1.2.0                      py_0  \n",
      "importlib-metadata        2.0.0                      py_1  \n",
      "importlib_metadata        2.0.0                         1  \n",
      "iniconfig                 1.1.1                      py_0  \n",
      "intel-openmp              2020.2                      254  \n",
      "intervaltree              3.1.0                      py_0  \n",
      "ipykernel                 5.3.4            py38h5ca1d4c_0  \n",
      "ipython                   7.19.0           py38hd4e2768_0  \n",
      "ipython_genutils          0.2.0              pyhd3eb1b0_1  \n",
      "ipywidgets                7.6.3              pyhd3eb1b0_0  \n",
      "isort                     5.6.4                      py_0  \n",
      "itsdangerous              1.1.0                      py_0  \n",
      "jdcal                     1.4.1                      py_0  \n",
      "jedi                      0.17.2           py38haa95532_1  \n",
      "jinja2                    2.11.2                     py_0  \n",
      "joblib                    1.0.0              pyhd3eb1b0_0  \n",
      "jpeg                      9b                   hb83a4c4_2  \n",
      "json5                     0.9.5                      py_0  \n",
      "jsonschema                3.2.0                      py_2  \n",
      "jupyter                   1.0.0                    py38_7  \n",
      "jupyter_client            6.1.7                      py_0  \n",
      "jupyter_console           6.2.0                      py_0  \n",
      "jupyter_core              4.7.0            py38haa95532_0  \n",
      "jupyterlab                2.2.6                      py_0  \n",
      "jupyterlab_pygments       0.1.2                      py_0  \n",
      "jupyterlab_server         1.2.0                      py_0  \n",
      "jupyterlab_widgets        1.0.0              pyhd3eb1b0_1  \n",
      "keyring                   21.8.0           py38haa95532_0  \n",
      "kiwisolver                1.3.0            py38hd77b12b_0  \n",
      "krb5                      1.18.2               hc04afaa_0  \n",
      "lazy-object-proxy         1.4.3            py38h2bbff1b_2  \n",
      "libarchive                3.4.2                h5e25573_0  \n",
      "libcurl                   7.71.1               h2a8f88b_1  \n",
      "libiconv                  1.15                 h1df5818_7  \n",
      "liblief                   0.10.1               ha925a31_0  \n",
      "libllvm9                  9.0.1                h21ff451_0  \n",
      "libpng                    1.6.37               h2a8f88b_0  \n",
      "libsodium                 1.0.18               h62dcd97_0  \n",
      "libspatialindex           1.9.3                h33f27b4_0  \n",
      "libssh2                   1.9.0                h7a1dbc1_1  \n",
      "libtiff                   4.1.0                h56a325e_1  \n",
      "libxml2                   2.9.10               hb89e7f3_3  \n",
      "libxslt                   1.1.34               he774522_0  \n",
      "llvmlite                  0.34.0           py38h1a82afc_4  \n",
      "locket                    0.2.0                    py38_1  \n",
      "lxml                      4.6.2            py38h9b66d53_0  \n",
      "lz4-c                     1.9.2                hf4a77e7_3  \n",
      "lzo                       2.10                 he774522_2  \n",
      "m2w64-gcc-libgfortran     5.3.0                         6  \n",
      "m2w64-gcc-libs            5.3.0                         7  \n",
      "m2w64-gcc-libs-core       5.3.0                         7  \n",
      "m2w64-gmp                 6.1.0                         2  \n",
      "m2w64-libwinpthread-git   5.0.0.4634.697f757               2  \n",
      "markupsafe                1.1.1            py38he774522_0  \n",
      "matplotlib                3.3.2                haa95532_0  \n",
      "matplotlib-base           3.3.2            py38hba9282a_0  \n",
      "mccabe                    0.6.1                    py38_1  \n",
      "menuinst                  1.4.16           py38he774522_1  \n",
      "mistune                   0.8.4           py38he774522_1000  \n",
      "mkl                       2020.2                      256  \n",
      "mkl-service               2.3.0            py38h196d8e1_0  \n",
      "mkl_fft                   1.2.0            py38h45dec08_0  \n",
      "mkl_random                1.1.1            py38h47e9c7a_0  \n",
      "mock                      4.0.3              pyhd3eb1b0_0  \n",
      "more-itertools            8.6.0              pyhd3eb1b0_0  \n",
      "mpc                       1.1.0                h7edee0f_1  \n",
      "mpfr                      4.0.2                h62dcd97_1  \n",
      "mpir                      3.0.0                hec2e145_1  \n",
      "mpmath                    1.1.0                    py38_0  \n",
      "msgpack-python            1.0.1            py38h59b6b97_0  \n",
      "msys2-conda-epoch         20160418                      1  \n",
      "multipledispatch          0.6.0                    py38_0  \n",
      "mypy_extensions           0.4.3                    py38_0  \n",
      "navigator-updater         0.2.1                    py38_0  \n",
      "nbclient                  0.5.1                      py_0  \n",
      "nbconvert                 6.0.7                    py38_0  \n",
      "nbformat                  5.0.8                      py_0  \n",
      "nest-asyncio              1.4.2              pyhd3eb1b0_0  \n",
      "networkx                  2.5                        py_0  \n",
      "nltk                      3.5                        py_0  \n",
      "nose                      1.3.7           pyhd3eb1b0_1006  \n",
      "notebook                  6.1.6            py38haa95532_0  \n",
      "numba                     0.51.2           py38hf9181ef_1  \n",
      "numexpr                   2.7.2            py38hcbcaa1e_0  \n",
      "numpy                     1.19.2           py38hadc3359_0  \n",
      "numpy-base                1.19.2           py38ha3acd2a_0  \n",
      "numpydoc                  1.1.0              pyhd3eb1b0_1  \n",
      "olefile                   0.46                       py_0  \n",
      "openpyxl                  3.0.5                      py_0  \n",
      "openssl                   1.1.1i               h2bbff1b_0  \n",
      "packaging                 20.8               pyhd3eb1b0_0  \n",
      "pandas                    1.2.0            py38hf11a4ad_0  \n",
      "pandoc                    2.11                 h9490d1a_0  \n",
      "pandocfilters             1.4.3            py38haa95532_1  \n",
      "paramiko                  2.7.2                      py_0  \n",
      "parso                     0.7.0                      py_0  \n",
      "partd                     1.1.0                      py_0  \n",
      "path                      15.0.1           py38haa95532_0  \n",
      "path.py                   12.5.0                        0  \n",
      "pathlib2                  2.3.5            py38haa95532_2  \n",
      "pathspec                  0.7.0                      py_0  \n",
      "pathtools                 0.1.2                      py_1  \n",
      "patsy                     0.5.1                    py38_0  \n",
      "pep8                      1.7.1                    py38_0  \n",
      "pexpect                   4.8.0              pyhd3eb1b0_3  \n",
      "pickleshare               0.7.5           pyhd3eb1b0_1003  \n",
      "pillow                    8.1.0            py38h4fa10fc_0  \n",
      "pip                       20.3.3           py38haa95532_0  \n",
      "pkginfo                   1.6.1            py38haa95532_0  \n",
      "pluggy                    0.13.1                   py38_0  \n",
      "ply                       3.11                     py38_0  \n",
      "powershell_shortcut       0.0.1                         3  \n",
      "prometheus_client         0.9.0              pyhd3eb1b0_0  \n",
      "prompt-toolkit            3.0.8                      py_0  \n",
      "prompt_toolkit            3.0.8                         0  \n",
      "psutil                    5.7.2            py38he774522_0  \n",
      "ptyprocess                0.7.0              pyhd3eb1b0_2  \n",
      "py                        1.10.0             pyhd3eb1b0_0  \n",
      "py-lief                   0.10.1           py38ha925a31_0  \n",
      "pycodestyle               2.6.0                      py_0  \n",
      "pycosat                   0.6.3            py38h2bbff1b_0  \n",
      "pycparser                 2.20                       py_2  \n",
      "pycurl                    7.43.0.6         py38h7a1dbc1_0  \n",
      "pydocstyle                5.1.1                      py_0  \n",
      "pyerfa                    1.7.1.1          py38h2bbff1b_1  \n",
      "pyflakes                  2.2.0                      py_0  \n",
      "pygments                  2.7.3              pyhd3eb1b0_0  \n",
      "pylint                    2.6.0                    py38_0  \n",
      "pyls-black                0.4.6                hd3eb1b0_0  \n",
      "pyls-spyder               0.3.0              pyhd3eb1b0_0  \n",
      "pynacl                    1.4.0            py38h62dcd97_1  \n",
      "pyodbc                    4.0.30           py38ha925a31_0  \n",
      "pyopenssl                 20.0.1             pyhd3eb1b0_1  \n",
      "pyparsing                 2.4.7                      py_0  \n",
      "pyqt                      5.9.2            py38ha925a31_4  \n",
      "pyreadline                2.1                      py38_1  \n",
      "pyrsistent                0.17.3           py38he774522_0  \n",
      "pysocks                   1.7.1            py38haa95532_0  \n",
      "pytables                  3.6.1            py38ha5be198_0  \n",
      "pytest                    6.2.1            py38haa95532_0  \n",
      "python                    3.8.5                h5fd99cc_1  \n",
      "python-dateutil           2.8.1                      py_0  \n",
      "python-jsonrpc-server     0.4.0                      py_0  \n",
      "python-language-server    0.36.2             pyhd3eb1b0_0  \n",
      "python-libarchive-c       2.9                        py_0  \n",
      "pytz                      2020.5             pyhd3eb1b0_0  \n",
      "pywavelets                1.1.1            py38he774522_2  \n",
      "pywin32                   227              py38he774522_1  \n",
      "pywin32-ctypes            0.2.0                 py38_1000  \n",
      "pywinpty                  0.5.7                    py38_0  \n",
      "pyyaml                    5.3.1            py38he774522_1  \n",
      "pyzmq                     20.0.0           py38hd77b12b_1  \n",
      "qdarkstyle                2.8.1                      py_0  \n",
      "qt                        5.9.7            vc14h73c81de_0  \n",
      "qtawesome                 1.0.1                      py_0  \n",
      "qtconsole                 4.7.7                      py_0  \n",
      "qtpy                      1.9.0                      py_0  \n",
      "regex                     2020.11.13       py38h2bbff1b_0  \n",
      "requests                  2.25.1             pyhd3eb1b0_0  \n",
      "rope                      0.18.0                     py_0  \n",
      "rtree                     0.9.4            py38h21ff451_1  \n",
      "ruamel_yaml               0.15.87          py38he774522_1  \n",
      "scikit-image              0.17.2           py38h1e1f486_0  \n",
      "scikit-learn              0.23.2           py38h47e9c7a_0  \n",
      "scipy                     1.5.2            py38h14eb087_0  \n",
      "seaborn                   0.11.1             pyhd3eb1b0_0  \n",
      "send2trash                1.5.0              pyhd3eb1b0_1  \n",
      "setuptools                51.0.0           py38haa95532_2  \n",
      "simplegeneric             0.8.1                    py38_2  \n",
      "singledispatch            3.4.0.3                 py_1001  \n",
      "sip                       4.19.13          py38ha925a31_0  \n",
      "six                       1.15.0           py38haa95532_0  \n",
      "snappy                    1.1.8                h33f27b4_0  \n",
      "snowballstemmer           2.0.0                      py_0  \n",
      "sortedcollections         1.2.3              pyhd3eb1b0_0  \n",
      "sortedcontainers          2.3.0              pyhd3eb1b0_0  \n",
      "soupsieve                 2.1                pyhd3eb1b0_0  \n",
      "sphinx                    3.4.3              pyhd3eb1b0_0  \n",
      "sphinxcontrib             1.0                      py38_1  \n",
      "sphinxcontrib-applehelp   1.0.2                      py_0  \n",
      "sphinxcontrib-devhelp     1.0.2                      py_0  \n",
      "sphinxcontrib-htmlhelp    1.0.3                      py_0  \n",
      "sphinxcontrib-jsmath      1.0.1                      py_0  \n",
      "sphinxcontrib-qthelp      1.0.3                      py_0  \n",
      "sphinxcontrib-serializinghtml 1.1.4                      py_0  \n",
      "sphinxcontrib-websupport  1.2.4                      py_0  \n",
      "spyder                    4.2.0            py38haa95532_0  \n",
      "spyder-kernels            1.10.1           py38haa95532_0  \n",
      "sqlalchemy                1.3.21           py38h2bbff1b_0  \n",
      "sqlite                    3.33.0               h2a8f88b_0  \n",
      "statsmodels               0.12.1           py38h2bbff1b_0  \n",
      "sympy                     1.7.1            py38haa95532_0  \n",
      "tbb                       2020.3               h74a9793_0  \n",
      "tblib                     1.7.0                      py_0  \n",
      "terminado                 0.9.2            py38haa95532_0  \n",
      "testpath                  0.4.4                      py_0  \n",
      "threadpoolctl             2.1.0              pyh5ca1d4c_0  \n",
      "three-merge               0.1.1              pyhd3eb1b0_0  \n",
      "tifffile                  2020.10.1        py38h8c2d366_2  \n",
      "tk                        8.6.10               he774522_0  \n",
      "toml                      0.10.1                     py_0  \n",
      "toolz                     0.11.1                     py_0  \n",
      "tornado                   6.1              py38h2bbff1b_0  \n",
      "tqdm                      4.55.1             pyhd3eb1b0_0  \n",
      "traitlets                 5.0.5                      py_0  \n",
      "typed-ast                 1.4.1            py38he774522_0  \n",
      "typing_extensions         3.7.4.3                    py_0  \n",
      "ujson                     4.0.1            py38ha925a31_0  \n",
      "unicodecsv                0.14.1                   py38_0  \n",
      "urllib3                   1.26.2             pyhd3eb1b0_0  \n",
      "vc                        14.2                 h21ff451_1  \n",
      "vs2015_runtime            14.27.29016          h5e58377_2  \n",
      "watchdog                  0.10.4           py38haa95532_0  \n",
      "wcwidth                   0.2.5                      py_0  \n",
      "webencodings              0.5.1                    py38_1  \n",
      "werkzeug                  1.0.1                      py_0  \n",
      "wheel                     0.36.2             pyhd3eb1b0_0  \n",
      "widgetsnbextension        3.5.1                    py38_0  \n",
      "win_inet_pton             1.1.0            py38haa95532_0  \n",
      "win_unicode_console       0.5                      py38_0  \n",
      "wincertstore              0.2                      py38_0  \n",
      "winpty                    0.4.3                         4  \n",
      "wrapt                     1.11.2           py38he774522_0  \n",
      "xlrd                      2.0.1              pyhd3eb1b0_0  \n",
      "xlsxwriter                1.3.7                      py_0  \n",
      "xlwings                   0.21.4           py38haa95532_0  \n",
      "xlwt                      1.3.0                    py38_0  \n",
      "xmltodict                 0.12.0                     py_0  \n",
      "xz                        5.2.5                h62dcd97_0  \n",
      "yaml                      0.2.5                he774522_0  \n",
      "yapf                      0.30.0                     py_0  \n",
      "zeromq                    4.3.3                ha925a31_3  \n",
      "zict                      2.0.0                      py_0  \n",
      "zipp                      3.4.0              pyhd3eb1b0_0  \n",
      "zlib                      1.2.11               h62dcd97_4  \n",
      "zope                      1.0                      py38_1  \n",
      "zope.event                4.5.0                    py38_0  \n",
      "zope.interface            5.2.0            py38h2bbff1b_0  \n",
      "zstd                      1.4.5                h04227a9_0  \n"
     ]
    }
   ],
   "source": [
    "# 패키지 목록 조회\n",
    "# pip list or conda list\n",
    "!pip list\n",
    "!conda list"
   ]
  },
  {
   "cell_type": "code",
   "execution_count": 4,
   "metadata": {},
   "outputs": [
    {
     "name": "stdout",
     "output_type": "stream",
     "text": [
      "Name: matplotlib\n",
      "Version: 3.3.2\n",
      "Summary: Python plotting package\n",
      "Home-page: https://matplotlib.org\n",
      "Author: John D. Hunter, Michael Droettboom\n",
      "Author-email: matplotlib-users@python.org\n",
      "License: PSF\n",
      "Location: c:\\anaconda3\\lib\\site-packages\n",
      "Requires: python-dateutil, kiwisolver, certifi, cycler, numpy, pillow, pyparsing\n",
      "Required-by: seaborn, scikit-image\n"
     ]
    }
   ],
   "source": [
    "# 특정 패키지 보기(matplotlib)\n",
    "!pip show matplotlib"
   ]
  },
  {
   "cell_type": "code",
   "execution_count": 6,
   "metadata": {},
   "outputs": [
    {
     "name": "stdout",
     "output_type": "stream",
     "text": [
      "Hello World!\n",
      "Hello Python!\n"
     ]
    }
   ],
   "source": [
    "# 파이썬에서 세미콜론은 붙이지 않지만, 한 줄에 여러 문장을 사용할 때 세미콜론을 사용한다.\n",
    "print('Hello World!'); print('Hello Python!')"
   ]
  },
  {
   "cell_type": "code",
   "execution_count": null,
   "metadata": {},
   "outputs": [],
   "source": [
    "# 한 줄 주석은 #, 여러 줄 주석은 ''' '''을 사용한다."
   ]
  },
  {
   "cell_type": "code",
   "execution_count": 7,
   "metadata": {},
   "outputs": [
    {
     "name": "stdout",
     "output_type": "stream",
     "text": [
      "강아지\n",
      "a는 강아지입니다.\n"
     ]
    }
   ],
   "source": [
    "# 파이썬 들여쓰기는 칸 수가 같아야 한다. 공백은 4칸 사용이 관례이다.\n",
    "a = '강아지'\n",
    "if a == '강아지':\n",
    "    print(a)\n",
    "    print('a는 강아지입니다.')"
   ]
  },
  {
   "cell_type": "code",
   "execution_count": null,
   "metadata": {},
   "outputs": [],
   "source": [
    "# 숫자의 구분 : 정수(int), 실수(float), 복소수(complex)\n",
    "# 파이썬에서는 복소수를 i가 아닌 j로 표시한다."
   ]
  },
  {
   "cell_type": "code",
   "execution_count": 12,
   "metadata": {},
   "outputs": [
    {
     "name": "stdout",
     "output_type": "stream",
     "text": [
      "<class 'int'>\n",
      "\n",
      "<class 'float'>\n",
      "\n",
      "(10+5j) <class 'complex'>\n"
     ]
    }
   ],
   "source": [
    "a = 10\n",
    "print(type(a))\n",
    "print()\n",
    "\n",
    "b = 10.0\n",
    "print(type(b))\n",
    "print()\n",
    "\n",
    "c = complex(10, 5)\n",
    "print(c, type(c))"
   ]
  },
  {
   "cell_type": "code",
   "execution_count": null,
   "metadata": {},
   "outputs": [],
   "source": [
    "# 사칙연산 : +(더하기), -(빼기), *(곱하기), /(나누기)\n",
    "# 몫만 반환 : //(나머지는 버림, 몫만 반환)\n",
    "# 나머지만 반환 : %\n",
    "# 제곱연산 : **\n",
    "# 부호 : +, -"
   ]
  },
  {
   "cell_type": "code",
   "execution_count": 13,
   "metadata": {},
   "outputs": [
    {
     "name": "stdout",
     "output_type": "stream",
     "text": [
      "20\n"
     ]
    }
   ],
   "source": [
    "# 더하기\n",
    "print(10 + 10)"
   ]
  },
  {
   "cell_type": "code",
   "execution_count": 14,
   "metadata": {},
   "outputs": [
    {
     "name": "stdout",
     "output_type": "stream",
     "text": [
      "0\n"
     ]
    }
   ],
   "source": [
    "# 빼기\n",
    "print(10 - 10)"
   ]
  },
  {
   "cell_type": "code",
   "execution_count": 15,
   "metadata": {},
   "outputs": [
    {
     "name": "stdout",
     "output_type": "stream",
     "text": [
      "100\n"
     ]
    }
   ],
   "source": [
    "# 곱하기\n",
    "print(10 * 10)"
   ]
  },
  {
   "cell_type": "code",
   "execution_count": 16,
   "metadata": {},
   "outputs": [
    {
     "name": "stdout",
     "output_type": "stream",
     "text": [
      "1.0\n"
     ]
    }
   ],
   "source": [
    "# 나누기\n",
    "print(10 / 10)"
   ]
  },
  {
   "cell_type": "code",
   "execution_count": 17,
   "metadata": {},
   "outputs": [
    {
     "name": "stdout",
     "output_type": "stream",
     "text": [
      "1\n"
     ]
    }
   ],
   "source": [
    "# 나머지\n",
    "print(17 % 4)"
   ]
  },
  {
   "cell_type": "code",
   "execution_count": 18,
   "metadata": {},
   "outputs": [
    {
     "name": "stdout",
     "output_type": "stream",
     "text": [
      "4\n"
     ]
    }
   ],
   "source": [
    "# 몫\n",
    "print(17 // 4)"
   ]
  },
  {
   "cell_type": "code",
   "execution_count": 21,
   "metadata": {},
   "outputs": [
    {
     "name": "stdout",
     "output_type": "stream",
     "text": [
      "10000000000\n"
     ]
    }
   ],
   "source": [
    "# 제곱\n",
    "print(10 ** 10)"
   ]
  },
  {
   "cell_type": "code",
   "execution_count": 20,
   "metadata": {},
   "outputs": [
    {
     "name": "stdout",
     "output_type": "stream",
     "text": [
      "10\n",
      "-10\n"
     ]
    }
   ],
   "source": [
    "# 부호\n",
    "print(+10)\n",
    "print(-10)"
   ]
  },
  {
   "cell_type": "code",
   "execution_count": null,
   "metadata": {},
   "outputs": [],
   "source": [
    "# 숫자와 관련된 함수\n",
    "# 1. abs() : 절대값\n",
    "# 2. int() : 실수를 정수로 변환\n",
    "# 3. float() : 정수를 실수로 변환\n",
    "# 4. divmod(x, y) : x // y, x % y의 결과, 즉 몫과 나머지의 결과를 한 번에 반환\n",
    "# 5. pow(x, y) : x ** y의 결과, 즉 x의 y 제곱 결과를 반환"
   ]
  },
  {
   "cell_type": "code",
   "execution_count": 22,
   "metadata": {},
   "outputs": [
    {
     "name": "stdout",
     "output_type": "stream",
     "text": [
      "10\n"
     ]
    }
   ],
   "source": [
    "# 절대값\n",
    "print(abs(-10))"
   ]
  },
  {
   "cell_type": "code",
   "execution_count": 23,
   "metadata": {},
   "outputs": [
    {
     "name": "stdout",
     "output_type": "stream",
     "text": [
      "4\n"
     ]
    }
   ],
   "source": [
    "# 실수를 정수로 변환\n",
    "print(int(4.44))"
   ]
  },
  {
   "cell_type": "code",
   "execution_count": 24,
   "metadata": {},
   "outputs": [
    {
     "name": "stdout",
     "output_type": "stream",
     "text": [
      "4.0\n"
     ]
    }
   ],
   "source": [
    "# 정수를 실수로 변환\n",
    "print(float(4))"
   ]
  },
  {
   "cell_type": "code",
   "execution_count": 25,
   "metadata": {},
   "outputs": [
    {
     "name": "stdout",
     "output_type": "stream",
     "text": [
      "(2, 2)\n"
     ]
    }
   ],
   "source": [
    "# 몫과 나머지를 동시에 반환\n",
    "print(divmod(10, 4))"
   ]
  },
  {
   "cell_type": "code",
   "execution_count": 26,
   "metadata": {},
   "outputs": [
    {
     "name": "stdout",
     "output_type": "stream",
     "text": [
      "256\n"
     ]
    }
   ],
   "source": [
    "# 제곱\n",
    "print(pow(4, 4))"
   ]
  },
  {
   "cell_type": "code",
   "execution_count": null,
   "metadata": {},
   "outputs": [],
   "source": [
    "# 문자열은 작은 따옴표 혹은 큰 따옴표로 정의한다."
   ]
  },
  {
   "cell_type": "code",
   "execution_count": 30,
   "metadata": {},
   "outputs": [
    {
     "name": "stdout",
     "output_type": "stream",
     "text": [
      "Edison's brain is brilliant!\n",
      "\n",
      "Edison's brain is brilliant!\n"
     ]
    }
   ],
   "source": [
    "# 문자열에 작은 따옴표와 큰 따옴표 혼용 사용\n",
    "a = \"Edison's brain is brilliant!\"\n",
    "print(a)\n",
    "print()\n",
    "b = 'Edison\\'s brain is brilliant!'\n",
    "print(b)"
   ]
  },
  {
   "cell_type": "code",
   "execution_count": 33,
   "metadata": {},
   "outputs": [
    {
     "name": "stdout",
     "output_type": "stream",
     "text": [
      "문자1\n",
      "\n",
      "Edison is genious!\n"
     ]
    }
   ],
   "source": [
    "# 문자열 연산은 자료형이 틀릴 경우 에러가 발생한다.\n",
    "# a = '문자' + 1 은 에러 발생\n",
    "a = '문자' + '1'\n",
    "print(a)\n",
    "print()\n",
    "\n",
    "b = 'Edison is '\n",
    "c = 'genious!'\n",
    "print(b + c)"
   ]
  },
  {
   "cell_type": "code",
   "execution_count": 34,
   "metadata": {},
   "outputs": [
    {
     "name": "stdout",
     "output_type": "stream",
     "text": [
      "Edison is Edison is Edison is Edison is Edison is Edison is Edison is Edison is Edison is Edison is \n"
     ]
    }
   ],
   "source": [
    "# 문자열 반복\n",
    "print(b * 10)"
   ]
  },
  {
   "cell_type": "code",
   "execution_count": 40,
   "metadata": {},
   "outputs": [
    {
     "name": "stdout",
     "output_type": "stream",
     "text": [
      "에\n",
      "!\n",
      "!\n",
      "재\n",
      "재\n"
     ]
    }
   ],
   "source": [
    "# 문자열 인덱싱\n",
    "# 인덱스는 0부터 시작한다.\n",
    "# 맨 앞은 0, 맨 뒤는 -1이다.\n",
    "# 인덱스가 양수이면 처음부터 시작하고 음수이면 뒤에서부터 시작한다.\n",
    "a = '에디슨은 천재다!'\n",
    "print(a[0])\n",
    "print(a[-1])\n",
    "print(a[8])\n",
    "print(a[6])\n",
    "print(a[-3])"
   ]
  },
  {
   "cell_type": "code",
   "execution_count": 73,
   "metadata": {},
   "outputs": [
    {
     "name": "stdout",
     "output_type": "stream",
     "text": [
      "2021\n",
      "2021\n",
      "2021\n",
      "\n",
      "\n",
      "2021년 나는 성공한다!\n",
      "2021년 나는 성공한다!\n",
      "2021년 나는 성공한다!\n",
      "\n",
      "성공\n",
      "성공\n",
      "\n",
      "\n",
      "14\n"
     ]
    }
   ],
   "source": [
    "# 문자열 슬라이싱(특정 문자열 잘라내기)\n",
    "a = '2021년 나는 성공한다!'\n",
    "\n",
    "# 년도만 추출하기\n",
    "print(a[0] + a[1] + a[2] + a[3])\n",
    "print(a[0:4])\n",
    "print(a[:4])\n",
    "print(a[len(a):3])\n",
    "print()\n",
    "\n",
    "# 전체 추출하기\n",
    "print(a[:])\n",
    "print(a[0:14])      # 전체 문자수에 +1을 한다.\n",
    "print(a[:len(a)])\n",
    "print()\n",
    "\n",
    "# '성공' 만 추출하기\n",
    "print(a[9:11])\n",
    "print(a[-5:-3])\n",
    "print(a[9:len(a):-3])\n",
    "print()\n",
    "\n",
    "# 문자열의 길이 반환하기\n",
    "print(len(a))"
   ]
  },
  {
   "cell_type": "code",
   "execution_count": null,
   "metadata": {},
   "outputs": [],
   "source": [
    "# 문자열 바꾸기\n",
    "# 문자열과 튜플형은 직접 변경이 불가하다.(immutable)"
   ]
  },
  {
   "cell_type": "code",
   "execution_count": 76,
   "metadata": {},
   "outputs": [
    {
     "name": "stdout",
     "output_type": "stream",
     "text": [
      "Ed i son\n",
      "Edison\n"
     ]
    }
   ],
   "source": [
    "# 문자열 수정\n",
    "a = 'Edyson'\n",
    "print(a[:2], 'i', a[3:])\n",
    "a = a[:2] + 'i' + a[3:]\n",
    "print(a)"
   ]
  },
  {
   "cell_type": "code",
   "execution_count": 88,
   "metadata": {},
   "outputs": [
    {
     "name": "stdout",
     "output_type": "stream",
     "text": [
      "오늘의 날씨는 영상 10도 입니다.\n",
      "오늘의 날씨는 영하 -10도 입니다.\n",
      "\n",
      "오늘의 날씨는 영상 10도 입니다.\n",
      "오늘의 날씨는 영하 -10도 입니다.\n",
      "오늘의 날씨는 영하 -10도 입니다.\n",
      "나는 34살 입니다. 나는 1988년생입니다.\n"
     ]
    }
   ],
   "source": [
    "# 포맷팅\n",
    "# 1. %d : 숫자 포맷팅\n",
    "degree = 10\n",
    "print(\"오늘의 날씨는 영상 %d도 입니다.\" % degree)\n",
    "\n",
    "degree = -10\n",
    "print(\"오늘의 날씨는 영하 %d도 입니다.\" % degree)\n",
    "print()\n",
    "\n",
    "# 2. %s : 문자 포맷팅\n",
    "print(\"오늘의 날씨는 영상 %s도 입니다.\" % '10')\n",
    "print(\"오늘의 날씨는 영하 %s도 입니다.\" % degree)\n",
    "print(\"오늘의 날씨는 영하 %s도 입니다.\" % -10)\n",
    "\n",
    "# 3. 2개 이상의 값을 포맷팅\n",
    "age = 34\n",
    "year = \"1988\"\n",
    "print('나는 %d살 입니다. 나는 %s년생입니다.' % (age, year))"
   ]
  },
  {
   "cell_type": "code",
   "execution_count": 130,
   "metadata": {},
   "outputs": [
    {
     "name": "stdout",
     "output_type": "stream",
     "text": [
      "    Edison\n",
      "Edison    \n",
      "  Edison  \n"
     ]
    }
   ],
   "source": [
    "# 정렬과 공백\n",
    "# %10s로 정의된 경우 정의된 문자열의 크기가 10자리보다 작을 경우\n",
    "# 앞의 나머지 공간은 공백으로 채워지고 오른쪽 정렬이 된다.\n",
    "\n",
    "# 1. 오른쪽 정렬\n",
    "a = '%10s' % 'Edison'\n",
    "print(a)\n",
    "\n",
    "# 2. 왼쪽 정렬\n",
    "a = '%-10s' % 'Edison'\n",
    "print(a)\n",
    "\n",
    "# 3. 가운데 정렬\n",
    "a = '{0:^10}'.format('Edison')\n",
    "print(a)"
   ]
  },
  {
   "cell_type": "code",
   "execution_count": 116,
   "metadata": {},
   "outputs": [
    {
     "name": "stdout",
     "output_type": "stream",
     "text": [
      "3.141592\n",
      "3.1416\n",
      "3.1416\n",
      "3.14\n"
     ]
    }
   ],
   "source": [
    "# 소숫점 표현\n",
    "a = '%f' % 3.141592\n",
    "print(a)\n",
    "\n",
    "a = '%.4f' % 3.141592      # %.nf : n번째 자리에서 반올림하여 표현\n",
    "print(a)\n",
    "\n",
    "a = '%0.4f' % 3.141592\n",
    "print(a)\n",
    "\n",
    "a = '%.2f' % 3.141592\n",
    "print(a)"
   ]
  },
  {
   "cell_type": "code",
   "execution_count": 122,
   "metadata": {},
   "outputs": [
    {
     "name": "stdout",
     "output_type": "stream",
     "text": [
      "에디슨의 아이큐는 200입니다.\n",
      "에디슨의 아이큐는 200입니다.\n",
      "에디슨의 아이큐는 200입니다.\n"
     ]
    }
   ],
   "source": [
    "# format() 함수\n",
    "print(\"에디슨의 아이큐는 %d입니다.\" % 200)\n",
    "print(\"에디슨의 아이큐는 {0}입니다.\" .format(200))\n",
    "print(\"에디슨의 아이큐는 {0}입니다.\" .format('200'))"
   ]
  },
  {
   "cell_type": "code",
   "execution_count": 124,
   "metadata": {},
   "outputs": [
    {
     "name": "stdout",
     "output_type": "stream",
     "text": [
      "나는 34살입니다. 나는 1998년생입니다.\n",
      "나는 34살입니다. 나는 1998년생입니다.\n"
     ]
    }
   ],
   "source": [
    "# 2개 이상의 값을 가진 format() 함수\n",
    "age = 34\n",
    "year = '1998'\n",
    "print('나는 %d살입니다. 나는 %s년생입니다.' %(age, year))\n",
    "print('나는 {0}살입니다. 나는 {1}년생입니다.' .format(age, year))"
   ]
  },
  {
   "cell_type": "code",
   "execution_count": 128,
   "metadata": {},
   "outputs": [
    {
     "name": "stdout",
     "output_type": "stream",
     "text": [
      "나는 34살입니다. 나는 1998년생입니다.\n",
      "나는 34살입니다. 나는 1998년생입니다.\n",
      "나는 34살입니다. 나는 1998년생입니다.\n"
     ]
    }
   ],
   "source": [
    "# 이름으로 format() 함수 사용하기\n",
    "# 이름으로 사용할 때에는 순서가 바뀌어도 실행된다.\n",
    "print('나는 {x}살입니다. 나는 {y}년생입니다.' .format(x=age, y=year))\n",
    "print('나는 {x}살입니다. 나는 {y}년생입니다.' .format(y=year, x=age))\n",
    "print('나는 {age}살입니다. 나는 {year}년생입니다.' .format(age=age, year=year))"
   ]
  },
  {
   "cell_type": "code",
   "execution_count": 135,
   "metadata": {},
   "outputs": [
    {
     "name": "stdout",
     "output_type": "stream",
     "text": [
      "Edison----\n",
      "****Edison\n",
      "!!Edison!!\n"
     ]
    }
   ],
   "source": [
    "# format()함수로 공백채우기\n",
    "a = '{0:-<10}'.format('Edison')\n",
    "print(a)\n",
    "\n",
    "a = '{0:*>10}'.format('Edison')\n",
    "print(a)\n",
    "\n",
    "a = '{0:!^10}'.format('Edison')\n",
    "print(a)"
   ]
  },
  {
   "cell_type": "code",
   "execution_count": 155,
   "metadata": {},
   "outputs": [
    {
     "name": "stdout",
     "output_type": "stream",
     "text": [
      "3.141592\n",
      " 3.141592\n",
      "  3.141592\n",
      "3.1416    \n"
     ]
    }
   ],
   "source": [
    "# format()함수로 소수점표현하기\n",
    "a = 3.141592\n",
    "print('{0:8}'.format(a))\n",
    "print('{0:9}'.format(a))\n",
    "print('{0:10}'.format(a))\n",
    "print('{0:<10.4f}'.format(a))     # 반올림하면 공백이 채워진다."
   ]
  },
  {
   "cell_type": "code",
   "execution_count": 157,
   "metadata": {},
   "outputs": [
    {
     "name": "stdout",
     "output_type": "stream",
     "text": [
      "{Edison}\n",
      "{Edison}\n"
     ]
    }
   ],
   "source": [
    "# format()함수로 중괄호{} 출력하기\n",
    "a = '{Edison}'\n",
    "print(a)\n",
    "\n",
    "a = '{{Edison}}'.format()\n",
    "print(a)"
   ]
  },
  {
   "cell_type": "code",
   "execution_count": 162,
   "metadata": {},
   "outputs": [
    {
     "name": "stdout",
     "output_type": "stream",
     "text": [
      "내 이름은 Edison 입니다. 나이는 34살 입니다.\n",
      "내 이름은 Edison 입니다. 나이는 34살 입니다.\n"
     ]
    }
   ],
   "source": [
    "# f문자열 포맷팅\n",
    "name = 'Edison'\n",
    "age = 34\n",
    "a = '내 이름은 {name} 입니다. 나이는 {age}살 입니다.' .format(name=name, age=age)\n",
    "print(a)\n",
    "\n",
    "b = f'내 이름은 {name} 입니다. 나이는 {age}살 입니다.'    # f를 쓰면 format을 쓰지 않아도 된다.\n",
    "print(b)"
   ]
  },
  {
   "cell_type": "code",
   "execution_count": 166,
   "metadata": {},
   "outputs": [
    {
     "name": "stdout",
     "output_type": "stream",
     "text": [
      "내 이름은 Edison 입니다. 나이는 34살 입니다.\n",
      "내 이름은 Edison 입니다. 나이는 34살 입니다.\n"
     ]
    }
   ],
   "source": [
    "# f문자열 포맷팅과 딕셔너리 사용하기\n",
    "c = {'name':'Edison', 'age':34}\n",
    "print(f'내 이름은 {name} 입니다. 나이는 {age}살 입니다.')\n",
    "print(f'내 이름은 {c[\"name\"]} 입니다. 나이는 {c[\"age\"]}살 입니다.')"
   ]
  },
  {
   "cell_type": "code",
   "execution_count": null,
   "metadata": {},
   "outputs": [],
   "source": [
    "# 문자열 관련 함수"
   ]
  },
  {
   "cell_type": "code",
   "execution_count": 183,
   "metadata": {},
   "outputs": [
    {
     "name": "stdout",
     "output_type": "stream",
     "text": [
      "3\n",
      "3\n",
      "\n",
      "1\n",
      "1\n",
      "1\n",
      "0\n"
     ]
    }
   ],
   "source": [
    "# 1. count()\n",
    "a = 'Edison is genious!'\n",
    "print('Edison is genious!'.count('i'))\n",
    "print(a.count('i'))         # 문자 i의 갯수\n",
    "print()\n",
    "print(a[:].count('Edison'))\n",
    "print(a[:6].count('Edison'))\n",
    "print(a.count('Edison'))\n",
    "print(a.count('edison'))    # 단어 Edison의 갯수(대소문자 구별해야 함)\n"
   ]
  },
  {
   "cell_type": "code",
   "execution_count": null,
   "metadata": {},
   "outputs": [],
   "source": []
  },
  {
   "cell_type": "code",
   "execution_count": null,
   "metadata": {},
   "outputs": [],
   "source": []
  },
  {
   "cell_type": "code",
   "execution_count": null,
   "metadata": {},
   "outputs": [],
   "source": []
  },
  {
   "cell_type": "code",
   "execution_count": null,
   "metadata": {},
   "outputs": [],
   "source": []
  }
 ],
 "metadata": {
  "kernelspec": {
   "display_name": "Python 3",
   "language": "python",
   "name": "python3"
  },
  "language_info": {
   "codemirror_mode": {
    "name": "ipython",
    "version": 3
   },
   "file_extension": ".py",
   "mimetype": "text/x-python",
   "name": "python",
   "nbconvert_exporter": "python",
   "pygments_lexer": "ipython3",
   "version": "3.8.5"
  }
 },
 "nbformat": 4,
 "nbformat_minor": 4
}
